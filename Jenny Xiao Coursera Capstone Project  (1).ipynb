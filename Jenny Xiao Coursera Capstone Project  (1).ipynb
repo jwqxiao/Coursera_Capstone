{
 "cells": [
  {
   "cell_type": "markdown",
   "metadata": {},
   "source": [
    "**1. Introduction**"
   ]
  },
  {
   "cell_type": "markdown",
   "metadata": {},
   "source": [
    "Cafes are around the streetcorners of all large cities and have become a symbol of urban life. But if someone is looking to open a cafe in, for example, Toronto, where should they open it? Basic economic theory maintains that supply and demand are the determinants of price. According to this logic, at least two factors need to be taken into consideration when deciding where to open a cafe: the number of cafes in a neighborhood (supply) and the number of residents in the neighborhood (demand). Ideally, the new cafe should open in a neighborhood which has few cafes but a large number of residents."
   ]
  },
  {
   "cell_type": "markdown",
   "metadata": {},
   "source": [
    "**2. Data**"
   ]
  },
  {
   "cell_type": "markdown",
   "metadata": {},
   "source": [
    "With Foursquare location data, one can easily obtain the number of cafes in each Toronto neighborhood. One could also find data online on the number of residents in each neighborhood in Toronto. One can then calculate the cafe/capita index for each neighborhood and decide to open a new cafe in the neighborhood with the lowest cafe per capita. "
   ]
  },
  {
   "cell_type": "markdown",
   "metadata": {},
   "source": []
  },
  {
   "cell_type": "code",
   "execution_count": null,
   "metadata": {},
   "outputs": [],
   "source": []
  }
 ],
 "metadata": {
  "kernelspec": {
   "display_name": "Python 3",
   "language": "python",
   "name": "python3"
  },
  "language_info": {
   "codemirror_mode": {
    "name": "ipython",
    "version": 3
   },
   "file_extension": ".py",
   "mimetype": "text/x-python",
   "name": "python",
   "nbconvert_exporter": "python",
   "pygments_lexer": "ipython3",
   "version": "3.7.4"
  }
 },
 "nbformat": 4,
 "nbformat_minor": 2
}
